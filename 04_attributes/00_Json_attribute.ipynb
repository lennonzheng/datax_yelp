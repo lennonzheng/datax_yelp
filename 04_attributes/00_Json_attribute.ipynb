{
 "cells": [
  {
   "cell_type": "code",
   "execution_count": 41,
   "id": "707780bd-c44c-4e1f-a022-b2ae1394a991",
   "metadata": {},
   "outputs": [],
   "source": [
    "import json\n",
    "import numpy as np\n",
    "import pandas as pd\n",
    "import csv\n",
    "import ast"
   ]
  },
  {
   "cell_type": "code",
   "execution_count": 2,
   "id": "c9110ecf-07d8-4f47-8f66-07d4c2f4b334",
   "metadata": {},
   "outputs": [],
   "source": [
    "def read_json_ds(path):\n",
    "    with open(path) as data_file:\n",
    "        return [json.loads(line) for line in data_file]"
   ]
  },
  {
   "cell_type": "code",
   "execution_count": 7,
   "id": "801162f6-8e15-4a3d-a00a-6609f79cf7c3",
   "metadata": {},
   "outputs": [],
   "source": [
    "bus = read_json_ds(\"yelp_academic_dataset_business.json\")"
   ]
  },
  {
   "cell_type": "code",
   "execution_count": 15,
   "id": "a53aaaf2-0c3f-4cdf-a08a-4d03aac3f9eb",
   "metadata": {},
   "outputs": [],
   "source": [
    "rest_id = set(pd.read_csv(\"austin_only/austin_rest.csv\").business_id.values)"
   ]
  },
  {
   "cell_type": "code",
   "execution_count": 17,
   "id": "8b56335f-247c-4ecf-b0cf-a952261fb536",
   "metadata": {},
   "outputs": [],
   "source": [
    "bus_austin = [x for x in bus if x[\"business_id\"] in rest_id]"
   ]
  },
  {
   "cell_type": "code",
   "execution_count": 83,
   "id": "f927d402-e520-4f31-ad04-0e6814a6a25c",
   "metadata": {},
   "outputs": [],
   "source": [
    "def denest_dict(d):\n",
    "    out = dict()\n",
    "    for k, v in d.items():\n",
    "        try:\n",
    "            v = ast.literal_eval(v)\n",
    "        except:\n",
    "            pass\n",
    "        if isinstance(v, dict):\n",
    "            nested_d = denest_dict(v)\n",
    "            for nk, nv in nested_d.items():\n",
    "                out['_'.join([k, nk])] = nv\n",
    "        else:\n",
    "            out[k] = v\n",
    "    return out"
   ]
  },
  {
   "cell_type": "code",
   "execution_count": 87,
   "id": "f27fdf62-9564-4c16-8ff6-abd66f24c9ed",
   "metadata": {},
   "outputs": [],
   "source": [
    "bus_denested = [denest_dict(x) for x in bus_austin]"
   ]
  },
  {
   "cell_type": "code",
   "execution_count": 104,
   "id": "07fbbb0f-e2d0-4abf-b784-0553ff82858c",
   "metadata": {},
   "outputs": [],
   "source": [
    "def split_categories(cat_str):\n",
    "    return {\"category_\" + x.strip() : True for x in cat_str.split(\",\")}"
   ]
  },
  {
   "cell_type": "code",
   "execution_count": 107,
   "id": "a5413521-1b45-4e2a-b25a-bc69f0637c1e",
   "metadata": {},
   "outputs": [],
   "source": [
    "for v in bus_denested:\n",
    "    v.update(split_categories(v.pop(\"categories\")))"
   ]
  },
  {
   "cell_type": "code",
   "execution_count": 109,
   "id": "bc2cdb67-aa55-4123-8eda-cfa2b8939149",
   "metadata": {},
   "outputs": [],
   "source": [
    "df = pd.DataFrame(bus_denested)"
   ]
  },
  {
   "cell_type": "code",
   "execution_count": 136,
   "id": "eae84450-f658-4eae-b34f-50fa277e0bec",
   "metadata": {},
   "outputs": [],
   "source": [
    "occ_num = df.shape[0] - df.isna().sum(0)"
   ]
  },
  {
   "cell_type": "code",
   "execution_count": 148,
   "id": "244d5eae-8915-4caa-9fbb-9f6477901c3d",
   "metadata": {},
   "outputs": [
    {
     "data": {
      "text/plain": [
       "<AxesSubplot:ylabel='Count'>"
      ]
     },
     "execution_count": 148,
     "metadata": {},
     "output_type": "execute_result"
    },
    {
     "data": {
      "image/png": "[encoded data removed]",
      "text/plain": [
       "<Figure size 432x288 with 1 Axes>"
      ]
     },
     "metadata": {
      "needs_background": "light"
     },
     "output_type": "display_data"
    }
   ],
   "source": [
    "import seaborn as sns\n",
    "sns.histplot(occ_num)"
   ]
  },
  {
   "cell_type": "code",
   "execution_count": 140,
   "id": "9b216faf-9cbe-4442-9881-baf3c552e324",
   "metadata": {},
   "outputs": [],
   "source": [
    "valid_columns = df.columns[occ_num > 100]"
   ]
  },
  {
   "cell_type": "code",
   "execution_count": 141,
   "id": "7ec454fa-9b8f-44cf-8b85-6b87af928b87",
   "metadata": {},
   "outputs": [
    {
     "data": {
      "text/plain": [
       "Index(['business_id', 'name', 'address', 'city', 'state', 'postal_code',\n",
       "       'latitude', 'longitude', 'stars', 'review_count',\n",
       "       ...\n",
       "       'category_Arts & Entertainment', 'category_Barbeque',\n",
       "       'category_Ice Cream & Frozen Yogurt', 'category_Beer',\n",
       "       'category_Wine & Spirits', 'category_Bakeries', 'category_Sports Bars',\n",
       "       'category_Vegan', 'category_Thai', 'category_Street Vendors'],\n",
       "      dtype='object', length=129)"
      ]
     },
     "execution_count": 141,
     "metadata": {},
     "output_type": "execute_result"
    }
   ],
   "source": [
    "valid_columns"
   ]
  },
  {
   "cell_type": "code",
   "execution_count": 142,
   "id": "5661b38b-86df-4f76-81b1-48cbb2a55435",
   "metadata": {},
   "outputs": [],
   "source": [
    "df_valid = df[valid_columns]"
   ]
  },
  {
   "cell_type": "code",
   "execution_count": 147,
   "id": "f644c389-0d83-4aa7-8e12-f8ebb3cd7f23",
   "metadata": {},
   "outputs": [],
   "source": [
    "df_valid.to_csv(\"attributes_cat_as_columns.csv\", index=False)"
   ]
  },
  {
   "cell_type": "code",
   "execution_count": null,
   "id": "f59aab7c-74cb-44f7-a3e0-6c898f591ac6",
   "metadata": {},
   "outputs": [],
   "source": []
  }
 ],
 "metadata": {
  "kernelspec": {
   "display_name": "Python 3 (ipykernel)",
   "language": "python",
   "name": "python3"
  },
  "language_info": {
   "codemirror_mode": {
    "name": "ipython",
    "version": 3
   },
   "file_extension": ".py",
   "mimetype": "text/x-python",
   "name": "python",
   "nbconvert_exporter": "python",
   "pygments_lexer": "ipython3",
   "version": "3.8.12"
  }
 },
 "nbformat": 4,
 "nbformat_minor": 5
}
